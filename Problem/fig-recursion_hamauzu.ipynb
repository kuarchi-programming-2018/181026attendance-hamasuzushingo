{
 "cells": [
  {
   "cell_type": "code",
   "execution_count": 100,
   "metadata": {},
   "outputs": [],
   "source": [
    "from turtle import*"
   ]
  },
  {
   "cell_type": "code",
   "execution_count": 101,
   "metadata": {},
   "outputs": [],
   "source": [
    "def connect_points(points):\n",
    "    \"\"\"点群を読み込んでそれを繋いで描画する\"\"\"\n",
    "    up()\n",
    "    setpos(points[-1][0],points[-1][1])\n",
    "    down()\n",
    "    for xy in points:\n",
    "        setpos(xy[0],xy[1])"
   ]
  },
  {
   "cell_type": "code",
   "execution_count": 102,
   "metadata": {},
   "outputs": [],
   "source": [
    "def n_polygon(n=4, x0=0, y0=0, size=100):\n",
    "    \"\"\"n角形の頂点座標を返す\"\"\"\n",
    "    angle = 360/n\n",
    "    up()\n",
    "    setpos(x0,y0)\n",
    "    points = []\n",
    "    for i in range(n):\n",
    "        forward(size)\n",
    "        left(angle)\n",
    "        points.append(pos())\n",
    "    return points"
   ]
  },
  {
   "cell_type": "code",
   "execution_count": 103,
   "metadata": {},
   "outputs": [],
   "source": [
    "def deviding(p0,p1,r):\n",
    "    return p0*(1-r)+p1*r"
   ]
  },
  {
   "cell_type": "code",
   "execution_count": 104,
   "metadata": {},
   "outputs": [
    {
     "ename": "IndentationError",
     "evalue": "unindent does not match any outer indentation level (<ipython-input-104-c53c8993cd27>, line 5)",
     "output_type": "error",
     "traceback": [
      "\u001b[0;36m  File \u001b[0;32m\"<ipython-input-104-c53c8993cd27>\"\u001b[0;36m, line \u001b[0;32m5\u001b[0m\n\u001b[0;31m    [x0, y0] = p0\u001b[0m\n\u001b[0m                 ^\u001b[0m\n\u001b[0;31mIndentationError\u001b[0m\u001b[0;31m:\u001b[0m unindent does not match any outer indentation level\n"
     ]
    }
   ],
   "source": [
    "#deviding_point(点A, 点B, 内分比)\n",
    "def deviding_point(p0,p1,ratio):\n",
    "        \"\"\"値p0と値p1をrで内分する点を返す\n",
    "        　座標p0と座標p1について同じことを実行\"\"\"\n",
    "    [x0, y0] = p0\n",
    "    [x1, y1] = p1\n",
    "    xr = deviding(x0, x1, ratio)\n",
    "    yr = deviding(y0, y1, ratio)\n",
    "    return [xr, yr]"
   ]
  },
  {
   "cell_type": "code",
   "execution_count": 105,
   "metadata": {},
   "outputs": [],
   "source": [
    "#deviding_points(多角形の4頂点, 内分比)\n",
    "def deviding_points(points, ratio):\n",
    "    \"\"\"多角形の確変を内分してその頂点群を返す\"\"\"\n",
    "    new_points = []\n",
    "    points2 = points[:]    #コピーの作成\n",
    "    points2.append(points2[0])\n",
    "    points2.pop(0)\n",
    "    for p0, p1 in zip(points, points2):\n",
    "        pr0 = deviding_point(p0,p1,ratio)\n",
    "        new_points.append(pr0)\n",
    "    return new_points"
   ]
  },
  {
   "cell_type": "code",
   "execution_count": 106,
   "metadata": {},
   "outputs": [],
   "source": [
    "def rose_window_recursion(points,ratio,depth):\n",
    "    \"\"\"再帰呼び出し関数でよびだす\"\"\"\n",
    "    connect_points(points)\n",
    "    new_points = deviding_points(points,ratio)\n",
    "    if depth == 0:\n",
    "        up()\n",
    "        setpos(-200, -200)\n",
    "    else:\n",
    "        rose_window_recursion(new_points,ratio,depth-1)"
   ]
  },
  {
   "cell_type": "code",
   "execution_count": 66,
   "metadata": {},
   "outputs": [
    {
     "ename": "NameError",
     "evalue": "name 'tario' is not defined",
     "output_type": "error",
     "traceback": [
      "\u001b[0;31m---------------------------------------------------------------------------\u001b[0m",
      "\u001b[0;31mNameError\u001b[0m                                 Traceback (most recent call last)",
      "\u001b[0;32m<ipython-input-66-77f535b6c087>\u001b[0m in \u001b[0;36m<module>\u001b[0;34m()\u001b[0m\n\u001b[1;32m      1\u001b[0m \u001b[0mpoints\u001b[0m \u001b[0;34m=\u001b[0m \u001b[0mn_polygon\u001b[0m\u001b[0;34m(\u001b[0m\u001b[0mn\u001b[0m\u001b[0;34m=\u001b[0m\u001b[0;36m5\u001b[0m\u001b[0;34m,\u001b[0m \u001b[0msize\u001b[0m\u001b[0;34m=\u001b[0m\u001b[0;36m200\u001b[0m\u001b[0;34m)\u001b[0m\u001b[0;34m\u001b[0m\u001b[0m\n\u001b[0;32m----> 2\u001b[0;31m \u001b[0mrose_window_recursion\u001b[0m\u001b[0;34m(\u001b[0m\u001b[0mpoints\u001b[0m\u001b[0;34m,\u001b[0m \u001b[0;36m0.1\u001b[0m\u001b[0;34m,\u001b[0m \u001b[0;36m40\u001b[0m\u001b[0;34m)\u001b[0m\u001b[0;34m\u001b[0m\u001b[0m\n\u001b[0m\u001b[1;32m      3\u001b[0m \u001b[0mdone\u001b[0m\u001b[0;34m(\u001b[0m\u001b[0;34m)\u001b[0m\u001b[0;34m\u001b[0m\u001b[0m\n",
      "\u001b[0;32m<ipython-input-65-2bcc6153eabc>\u001b[0m in \u001b[0;36mrose_window_recursion\u001b[0;34m(points, ratio, depth)\u001b[0m\n\u001b[1;32m      2\u001b[0m     \u001b[0;34m\"\"\"再帰呼び出し関数でよびだす\"\"\"\u001b[0m\u001b[0;34m\u001b[0m\u001b[0m\n\u001b[1;32m      3\u001b[0m     \u001b[0mconnect_points\u001b[0m\u001b[0;34m(\u001b[0m\u001b[0mpoints\u001b[0m\u001b[0;34m)\u001b[0m\u001b[0;34m\u001b[0m\u001b[0m\n\u001b[0;32m----> 4\u001b[0;31m     \u001b[0mnew_points\u001b[0m \u001b[0;34m=\u001b[0m \u001b[0mdeviding_points\u001b[0m\u001b[0;34m(\u001b[0m\u001b[0mpoints\u001b[0m\u001b[0;34m,\u001b[0m\u001b[0mratio\u001b[0m\u001b[0;34m)\u001b[0m\u001b[0;34m\u001b[0m\u001b[0m\n\u001b[0m\u001b[1;32m      5\u001b[0m     \u001b[0;32mif\u001b[0m \u001b[0mdepth\u001b[0m \u001b[0;34m==\u001b[0m \u001b[0;36m0\u001b[0m\u001b[0;34m:\u001b[0m\u001b[0;34m\u001b[0m\u001b[0m\n\u001b[1;32m      6\u001b[0m         \u001b[0mup\u001b[0m\u001b[0;34m(\u001b[0m\u001b[0;34m)\u001b[0m\u001b[0;34m\u001b[0m\u001b[0m\n",
      "\u001b[0;32m<ipython-input-60-e22811a9bb0b>\u001b[0m in \u001b[0;36mdeviding_points\u001b[0;34m(points, ratio)\u001b[0m\n\u001b[1;32m      7\u001b[0m     \u001b[0mpoints2\u001b[0m\u001b[0;34m.\u001b[0m\u001b[0mpop\u001b[0m\u001b[0;34m(\u001b[0m\u001b[0;36m0\u001b[0m\u001b[0;34m)\u001b[0m\u001b[0;34m\u001b[0m\u001b[0m\n\u001b[1;32m      8\u001b[0m     \u001b[0;32mfor\u001b[0m \u001b[0mp0\u001b[0m\u001b[0;34m,\u001b[0m \u001b[0mp1\u001b[0m \u001b[0;32min\u001b[0m \u001b[0mzip\u001b[0m\u001b[0;34m(\u001b[0m\u001b[0mpoints\u001b[0m\u001b[0;34m,\u001b[0m \u001b[0mpoints2\u001b[0m\u001b[0;34m)\u001b[0m\u001b[0;34m:\u001b[0m\u001b[0;34m\u001b[0m\u001b[0m\n\u001b[0;32m----> 9\u001b[0;31m         \u001b[0mpr0\u001b[0m \u001b[0;34m=\u001b[0m \u001b[0mdeviding_point\u001b[0m\u001b[0;34m(\u001b[0m\u001b[0mp0\u001b[0m\u001b[0;34m,\u001b[0m\u001b[0mp1\u001b[0m\u001b[0;34m,\u001b[0m\u001b[0mratio\u001b[0m\u001b[0;34m)\u001b[0m\u001b[0;34m\u001b[0m\u001b[0m\n\u001b[0m\u001b[1;32m     10\u001b[0m         \u001b[0mnew_points\u001b[0m\u001b[0;34m.\u001b[0m\u001b[0mappend\u001b[0m\u001b[0;34m(\u001b[0m\u001b[0mpr0\u001b[0m\u001b[0;34m)\u001b[0m\u001b[0;34m\u001b[0m\u001b[0m\n\u001b[1;32m     11\u001b[0m     \u001b[0;32mreturn\u001b[0m \u001b[0mnew_points\u001b[0m\u001b[0;34m\u001b[0m\u001b[0m\n",
      "\u001b[0;32m<ipython-input-6-f967e25db336>\u001b[0m in \u001b[0;36mdeviding_point\u001b[0;34m(p0, p1, ratio)\u001b[0m\n\u001b[1;32m      4\u001b[0m     \u001b[0;34m[\u001b[0m\u001b[0mx1\u001b[0m\u001b[0;34m,\u001b[0m \u001b[0my1\u001b[0m\u001b[0;34m]\u001b[0m \u001b[0;34m=\u001b[0m \u001b[0mp1\u001b[0m\u001b[0;34m\u001b[0m\u001b[0m\n\u001b[1;32m      5\u001b[0m     \u001b[0mxr\u001b[0m \u001b[0;34m=\u001b[0m \u001b[0mdeviding\u001b[0m\u001b[0;34m(\u001b[0m\u001b[0mx0\u001b[0m\u001b[0;34m,\u001b[0m\u001b[0mx1\u001b[0m\u001b[0;34m,\u001b[0m\u001b[0mratio\u001b[0m\u001b[0;34m)\u001b[0m\u001b[0;34m\u001b[0m\u001b[0m\n\u001b[0;32m----> 6\u001b[0;31m     \u001b[0myr\u001b[0m \u001b[0;34m=\u001b[0m \u001b[0mdeviding\u001b[0m\u001b[0;34m(\u001b[0m\u001b[0my0\u001b[0m\u001b[0;34m,\u001b[0m\u001b[0my1\u001b[0m\u001b[0;34m,\u001b[0m\u001b[0mtario\u001b[0m\u001b[0;34m)\u001b[0m\u001b[0;34m\u001b[0m\u001b[0m\n\u001b[0m\u001b[1;32m      7\u001b[0m     \u001b[0;32mreturn\u001b[0m \u001b[0;34m[\u001b[0m\u001b[0mxr\u001b[0m\u001b[0;34m,\u001b[0m\u001b[0myr\u001b[0m\u001b[0;34m]\u001b[0m\u001b[0;34m\u001b[0m\u001b[0m\n",
      "\u001b[0;31mNameError\u001b[0m: name 'tario' is not defined"
     ]
    }
   ],
   "source": [
    "points = n_polygon(n=5, size=200)\n",
    "rose_window_recursion(points, 0.1, 40)\n",
    "done()"
   ]
  },
  {
   "cell_type": "code",
   "execution_count": 92,
   "metadata": {},
   "outputs": [],
   "source": [
    "from turtle import *  # 描画環境 turtle をインポート"
   ]
  },
  {
   "cell_type": "code",
   "execution_count": 93,
   "metadata": {},
   "outputs": [],
   "source": [
    "def connect_points(points):\n",
    "    up()\n",
    "    setpos(points[-1][0], points[-1][1])\n",
    "    down()\n",
    "    for xy in points:\n",
    "        setpos(xy[0], xy[1])"
   ]
  },
  {
   "cell_type": "code",
   "execution_count": 94,
   "metadata": {},
   "outputs": [],
   "source": [
    "def n_polygon(n=4, x0=0, y0=0, size=100):\n",
    "    angle = 360 / n\n",
    "    up()\n",
    "    setpos(x0, y0)\n",
    "    points = []\n",
    "    for i in range(n):\n",
    "        forward(size)\n",
    "        left(angle)\n",
    "        points.append(pos())\n",
    "    return points"
   ]
  },
  {
   "cell_type": "code",
   "execution_count": 95,
   "metadata": {},
   "outputs": [],
   "source": [
    "def deviding(p0, p1, r):\n",
    "    return p0 * (1 - r) + p1 * r"
   ]
  },
  {
   "cell_type": "code",
   "execution_count": 96,
   "metadata": {},
   "outputs": [],
   "source": [
    "# deviding_point(点A,点B,内分比)\n",
    "def deviding_point(p0, p1, ratio):\n",
    "    [x0, y0] = p0\n",
    "    [x1, y1] = p1\n",
    "    xr = deviding(x0, x1, ratio)\n",
    "    yr = deviding(y0, y1, ratio)\n",
    "    return [xr, yr]"
   ]
  },
  {
   "cell_type": "code",
   "execution_count": 97,
   "metadata": {},
   "outputs": [],
   "source": [
    "# deviding_points(多角形の４頂点，内分比)\n",
    "def deviding_points(points, ratio):\n",
    "    new_points = []\n",
    "    points2 = points[:] #コピーを作成\n",
    "    points2.append(points2[0])\n",
    "    points2.pop(0)\n",
    "    for p0, p1 in zip(points, points2):\n",
    "        pr0 = deviding_point(p0, p1, ratio)\n",
    "        new_points.append(pr0)\n",
    "    return new_points"
   ]
  },
  {
   "cell_type": "code",
   "execution_count": 98,
   "metadata": {},
   "outputs": [],
   "source": [
    "def rose_window_recursion(points, ratio, depth):\n",
    "    connect_points(points)\n",
    "    new_points = deviding_points(points, ratio)\n",
    "    if depth == 0:\n",
    "        up()\n",
    "        setpos(-200, -200)\n",
    "    else:\n",
    "        rose_window_recursion(new_points, ratio, depth - 1)"
   ]
  },
  {
   "cell_type": "code",
   "execution_count": 99,
   "metadata": {},
   "outputs": [],
   "source": [
    "points = n_polygon(n=5, size=200)\n",
    "rose_window_recursion(points, 0.1, 40)\n",
    "done()"
   ]
  }
 ],
 "metadata": {
  "kernelspec": {
   "display_name": "Python 3",
   "language": "python",
   "name": "python3"
  },
  "language_info": {
   "codemirror_mode": {
    "name": "ipython",
    "version": 3
   },
   "file_extension": ".py",
   "mimetype": "text/x-python",
   "name": "python",
   "nbconvert_exporter": "python",
   "pygments_lexer": "ipython3",
   "version": "3.7.0"
  }
 },
 "nbformat": 4,
 "nbformat_minor": 2
}
