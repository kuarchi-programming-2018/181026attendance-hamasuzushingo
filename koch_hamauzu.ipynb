{
 "cells": [
  {
   "cell_type": "code",
   "execution_count": 1,
   "metadata": {},
   "outputs": [],
   "source": [
    "import turtle as tl"
   ]
  },
  {
   "cell_type": "code",
   "execution_count": 2,
   "metadata": {},
   "outputs": [],
   "source": [
    "def draw(length, depth):\n",
    "    if depth > 0:\n",
    "        draw(length/3, depth-1)\n",
    "        tl.left(60)\n",
    "        draw(length/3, depth-1)\n",
    "        tl.right(120)\n",
    "        draw(length/3, depth-1)\n",
    "        tl.left(60)\n",
    "        draw(length/3, depth-1)\n",
    "    else:\n",
    "        tl.forward(length)"
   ]
  },
  {
   "cell_type": "code",
   "execution_count": 3,
   "metadata": {},
   "outputs": [],
   "source": [
    "#tl.tracer(0,0)#no amimation\n",
    "tl.up()\n",
    "tl.setx(-250)\n",
    "tl.down()\n",
    "#tl.speed(0) #0:fastest, 1:slow to 10:fast\n",
    "draw(500, 2)\n",
    "tl.done()"
   ]
  },
  {
   "cell_type": "code",
   "execution_count": null,
   "metadata": {},
   "outputs": [],
   "source": []
  }
 ],
 "metadata": {
  "kernelspec": {
   "display_name": "Python 3",
   "language": "python",
   "name": "python3"
  },
  "language_info": {
   "codemirror_mode": {
    "name": "ipython",
    "version": 3
   },
   "file_extension": ".py",
   "mimetype": "text/x-python",
   "name": "python",
   "nbconvert_exporter": "python",
   "pygments_lexer": "ipython3",
   "version": "3.7.0"
  }
 },
 "nbformat": 4,
 "nbformat_minor": 2
}
