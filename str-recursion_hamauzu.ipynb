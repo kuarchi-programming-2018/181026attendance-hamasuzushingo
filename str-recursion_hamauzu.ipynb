{
 "cells": [
  {
   "cell_type": "code",
   "execution_count": 6,
   "metadata": {},
   "outputs": [],
   "source": [
    "def grow(s,r): \n",
    "    \"\"\"repeat 's' for 'r' times\"\"\"\n",
    "    ss=''     #empty first\n",
    "    for letter in s:  #文字列sの中の単語(letter)に対してのループ\n",
    "        if letter == 'f':\n",
    "            ss = ss + 'fg'     #f⇨fg\n",
    "        elif letter == 'g':\n",
    "            ss = ss + 'gh'     #g⇨gh\n",
    "        elif letter == 'h':\n",
    "            ss = ss + 'gf'     #h⇨gf\n",
    "        else:\n",
    "            ss = ss + letter     #nothing\n",
    "    print (ss)\n",
    "    r = r-1     #counting\n",
    "    if r > 0:\n",
    "        ss = grow(ss,r)\n",
    "    return ss"
   ]
  },
  {
   "cell_type": "code",
   "execution_count": 7,
   "metadata": {},
   "outputs": [
    {
     "name": "stdout",
     "output_type": "stream",
     "text": [
      "fgXghXgf\n",
      "fgghXghgfXghfg\n",
      "fgghghgfXghgfghfgXghgffggh\n",
      "fgghghgfghgfghfgXghgfghfgghgffgghXghgfghfgfgghghgf\n"
     ]
    },
    {
     "data": {
      "text/plain": [
       "'fgghghgfghgfghfgXghgfghfgghgffgghXghgfghfgfgghghgf'"
      ]
     },
     "execution_count": 7,
     "metadata": {},
     "output_type": "execute_result"
    }
   ],
   "source": [
    "grow('fXgXh',4)"
   ]
  },
  {
   "cell_type": "code",
   "execution_count": null,
   "metadata": {},
   "outputs": [],
   "source": []
  }
 ],
 "metadata": {
  "kernelspec": {
   "display_name": "Python 3",
   "language": "python",
   "name": "python3"
  },
  "language_info": {
   "codemirror_mode": {
    "name": "ipython",
    "version": 3
   },
   "file_extension": ".py",
   "mimetype": "text/x-python",
   "name": "python",
   "nbconvert_exporter": "python",
   "pygments_lexer": "ipython3",
   "version": "3.7.0"
  }
 },
 "nbformat": 4,
 "nbformat_minor": 2
}
